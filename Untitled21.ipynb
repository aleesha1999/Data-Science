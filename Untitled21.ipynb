{
 "cells": [
  {
   "cell_type": "code",
   "execution_count": 19,
   "id": "78759c04-5f41-40a1-8e8b-8d5a7a959783",
   "metadata": {},
   "outputs": [
    {
     "ename": "IndentationError",
     "evalue": "unindent does not match any outer indentation level (<string>, line 15)",
     "output_type": "error",
     "traceback": [
      "\u001b[1;36m  File \u001b[1;32m<string>:15\u001b[1;36m\u001b[0m\n\u001b[1;33m    else:\u001b[0m\n\u001b[1;37m              ^\u001b[0m\n\u001b[1;31mIndentationError\u001b[0m\u001b[1;31m:\u001b[0m unindent does not match any outer indentation level\n"
     ]
    }
   ],
   "source": [
    "import  pandas as pd\n",
    "#read adataset of top_read IMEd movies into a Dataframe\n",
    "movies= pd.read_csv('http://bit.ly/imadbratings')\n",
    "print(movies.head())\n",
    "print()\n",
    "print(\"Dataframe  of top_rated IMDb movies:\")\n",
    "print(\"Example:Fiter rows of a pandas Dataframe by column value:\")\n",
    "print(\"Example:Filter rows to only show movies  with a duration of the condition atleast 200  minites\")\n",
    "print(\"1.using for loop\")\n",
    "#Create a list in a which each element refers to a DataFrame row:True if the row satisfies the condition.False otherwise\n",
    "booleans=[]\n",
    "for length in movies.duration:\n",
    "   if length>=200:\n",
    "       booleans.appened(True)\n",
    "    else: \n",
    "       booleans.appened(False)\n",
    "  is _long=pd..Serie      "
   ]
  },
  {
   "cell_type": "code",
   "execution_count": null,
   "id": "09d26881-0238-4a48-99f7-d5a5f7c885cd",
   "metadata": {},
   "outputs": [],
   "source": []
  },
  {
   "cell_type": "code",
   "execution_count": null,
   "id": "bda2e29e-a4d0-4d9b-982e-f566bca4aa6c",
   "metadata": {},
   "outputs": [],
   "source": []
  },
  {
   "cell_type": "code",
   "execution_count": null,
   "id": "eec48cf6-6ef5-4661-bcad-7db52b4ac240",
   "metadata": {},
   "outputs": [],
   "source": []
  }
 ],
 "metadata": {
  "kernelspec": {
   "display_name": "Python 3 (ipykernel)",
   "language": "python",
   "name": "python3"
  },
  "language_info": {
   "codemirror_mode": {
    "name": "ipython",
    "version": 3
   },
   "file_extension": ".py",
   "mimetype": "text/x-python",
   "name": "python",
   "nbconvert_exporter": "python",
   "pygments_lexer": "ipython3",
   "version": "3.12.4"
  }
 },
 "nbformat": 4,
 "nbformat_minor": 5
}
